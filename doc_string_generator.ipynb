{
 "cells": [
  {
   "metadata": {
    "ExecuteTime": {
     "end_time": "2024-12-09T20:14:46.815021Z",
     "start_time": "2024-12-09T20:14:46.808325Z"
    }
   },
   "cell_type": "code",
   "source": [
    "# Install libreries\n",
    "\n",
    "#!pip install python-dotenv openai anthropic gradio"
   ],
   "id": "a6da95277a9a858",
   "outputs": [],
   "execution_count": 1
  },
  {
   "metadata": {
    "ExecuteTime": {
     "end_time": "2024-12-09T20:14:52.848530Z",
     "start_time": "2024-12-09T20:14:46.815021Z"
    }
   },
   "cell_type": "code",
   "source": [
    "# Imports\n",
    "\n",
    "from dotenv import load_dotenv\n",
    "from openai import OpenAI\n",
    "import anthropic\n",
    "import gradio as gr\n",
    "import os"
   ],
   "id": "initial_id",
   "outputs": [],
   "execution_count": 2
  },
  {
   "metadata": {
    "ExecuteTime": {
     "end_time": "2024-12-09T20:14:52.856117Z",
     "start_time": "2024-12-09T20:14:52.848530Z"
    }
   },
   "cell_type": "code",
   "source": [
    "load_dotenv()\n",
    "os.environ['OPENAI_API_KEY'] = os.getenv('OPENAI_API_KEY', 'your-key-if-not-using-env')\n",
    "os.environ['ANTHROPIC_API_KEY'] = os.getenv('ANTHROPIC_API_KEY', 'your-key-if-not-using-env')"
   ],
   "id": "629cd5857982036a",
   "outputs": [],
   "execution_count": 3
  },
  {
   "metadata": {
    "ExecuteTime": {
     "end_time": "2024-12-09T20:15:44.673443Z",
     "start_time": "2024-12-09T20:15:43.651678Z"
    }
   },
   "cell_type": "code",
   "source": [
    "openai = OpenAI()\n",
    "claude = anthropic.Anthropic()\n",
    "OPENAI_MODEL = \"gpt-4o\"\n",
    "CLAUDE_MODEL = \"claude-3-5-sonnet-20240620\""
   ],
   "id": "77e786259e925cda",
   "outputs": [],
   "execution_count": 4
  },
  {
   "metadata": {
    "ExecuteTime": {
     "end_time": "2024-12-09T21:27:20.405467Z",
     "start_time": "2024-12-09T21:27:20.266843Z"
    }
   },
   "cell_type": "code",
   "source": [
    "system_prompt = \"You are an intelligent assistant specializing in software documentation and code understanding.\\n\"\n",
    "system_prompt += \"Your task is to analyze given Python code snippets, understand their functionality, and produce detailed and accurate docstrings and inline comments.\\n\"\n",
    "system_prompt += \"Follow these guidelines:\\n\\n\"\n",
    "system_prompt += \"1. Use triple double quotes (\\\"\\\"\\\") for Python docstrings.\\n\"\n",
    "system_prompt += \"2. Follow the Google-style docstring format, including:\\n\"\n",
    "system_prompt += \"   - A concise description of the function or class.\\n\"\n",
    "system_prompt += \"   - Args: A list describing all parameters with types and purposes.\\n\"\n",
    "system_prompt += \"   - Returns: A description of the return value, including the type.\\n\"\n",
    "system_prompt += \"   - Example: An example of the function and the output.\\n\\n\"\n",
    "system_prompt += \"3. Add inline comments for non-obvious logic or important steps in the code.\\n\"\n",
    "system_prompt += \"   - Inline comments should be concise and informative.\\n\\n\"\n",
    "system_prompt += \"4. Ensure all docstrings and comments adhere to Python's PEP 8 guidelines.\\n\"\n",
    "system_prompt += \"5. Use clear and professional language, avoiding over-explaining obvious code.\\n\\n\"\n",
    "system_prompt += \"Example Input:\\n\"\n",
    "system_prompt += \"def add_numbers(a, b):\\n\"\n",
    "system_prompt += \"    return a + b\\n\\n\"\n",
    "system_prompt += \"Example Output:\\n\"\n",
    "system_prompt += \"def add_numbers(a, b):\\n\"\n",
    "system_prompt += \"    \\\"\\\"\\\"Adds two numbers and returns the result.\\n\\n\"\n",
    "system_prompt += \"    Args:\\n\"\n",
    "system_prompt += \"        a (int): The first number.\\n\"\n",
    "system_prompt += \"        b (int): The second number.\\n\\n\"\n",
    "system_prompt += \"    Returns:\\n\"\n",
    "system_prompt += \"        int: The sum of the two numbers.\\n\"\n",
    "system_prompt += \"    Example:\\n\"\n",
    "system_prompt += \"        >>>add_numbers(1, 2):\\n\"\n",
    "system_prompt += \"        '3'\\n\"\n",
    "system_prompt += \"    \\\"\\\"\\\"\\n\"\n",
    "system_prompt += \"    return a + b  # Add the two numbers and return the result\\n\""
   ],
   "id": "238496ca05809b4c",
   "outputs": [],
   "execution_count": 51
  },
  {
   "metadata": {
    "ExecuteTime": {
     "end_time": "2024-12-09T20:45:09.010271Z",
     "start_time": "2024-12-09T20:45:09.003998Z"
    }
   },
   "cell_type": "code",
   "source": [
    "def user_prompt_for(python_code):\n",
    "    user_prompt = \"Analyze the following Python code snippet and add detailed docstrings and inline comments to improve readability and maintainability. \"\n",
    "    user_prompt += \"Ensure the docstrings follow the Google-style format with sections such as Description, Args, Returns, and Raises if applicable. \"\n",
    "    user_prompt += \"Respond only with the updated Python code, including the added docstrings and inline comments, and nothing else.\\n\\n\"\n",
    "    user_prompt += python_code\n",
    "    return user_prompt\n"
   ],
   "id": "5414ca2cf1ca4cf9",
   "outputs": [],
   "execution_count": 25
  },
  {
   "metadata": {
    "ExecuteTime": {
     "end_time": "2024-12-09T20:45:12.148Z",
     "start_time": "2024-12-09T20:45:12.133529Z"
    }
   },
   "cell_type": "code",
   "source": [
    "def messages_for(python):\n",
    "    return [\n",
    "        {\"role\": \"system\", \"content\": system_prompt},\n",
    "        {\"role\": \"user\", \"content\": user_prompt_for(python)}\n",
    "    ]"
   ],
   "id": "6ce0bfb2ab2ae542",
   "outputs": [],
   "execution_count": 26
  },
  {
   "metadata": {
    "ExecuteTime": {
     "end_time": "2024-12-09T20:47:29.485637Z",
     "start_time": "2024-12-09T20:47:29.477480Z"
    }
   },
   "cell_type": "code",
   "source": [
    "def documentation_gpt(python):\n",
    "    stream = openai.chat.completions.create(model=OPENAI_MODEL, messages=messages_for(python), stream=True)\n",
    "    reply = \"\"\n",
    "    for chunk in stream:\n",
    "        fragment = chunk.choices[0].delta.content or \"\"\n",
    "        reply += fragment\n",
    "        yield reply.replace('```python\\n','').replace('```','')"
   ],
   "id": "38871558a3f4b624",
   "outputs": [],
   "execution_count": 31
  },
  {
   "metadata": {
    "ExecuteTime": {
     "end_time": "2024-12-09T21:18:53.409969Z",
     "start_time": "2024-12-09T21:18:53.401746Z"
    }
   },
   "cell_type": "code",
   "source": [
    "def documentation_claude(python):\n",
    "    result = claude.messages.stream(\n",
    "        model=CLAUDE_MODEL,\n",
    "        max_tokens=2000,\n",
    "        system=system_prompt,\n",
    "        messages=[{\"role\": \"user\", \"content\": user_prompt_for(python)}],\n",
    "    )\n",
    "    reply = \"\"\n",
    "    with result as stream:\n",
    "        for text in stream.text_stream:\n",
    "            reply += text\n",
    "            yield reply.replace('```cpp\\n','').replace('```','')"
   ],
   "id": "94ebcaa611728e3a",
   "outputs": [],
   "execution_count": 48
  },
  {
   "metadata": {
    "ExecuteTime": {
     "end_time": "2024-12-09T20:45:33.214432Z",
     "start_time": "2024-12-09T20:45:33.206292Z"
    }
   },
   "cell_type": "code",
   "source": [
    "simple_function = \"\"\"\n",
    "def calculate_area(length, width):\n",
    "    return length * width\n",
    "\"\"\""
   ],
   "id": "62abdce4083787e0",
   "outputs": [],
   "execution_count": 29
  },
  {
   "metadata": {
    "ExecuteTime": {
     "end_time": "2024-12-09T21:19:37.169180Z",
     "start_time": "2024-12-09T21:19:37.164079Z"
    }
   },
   "cell_type": "code",
   "source": [
    "def document(python, model):\n",
    "    if model==\"GPT\":\n",
    "        result = documentation_gpt(python)\n",
    "    elif model==\"Claude\":\n",
    "        result = documentation_claude(python)\n",
    "    else:\n",
    "        raise ValueError(\"Unknown model\")\n",
    "    for stream_so_far in result:\n",
    "        yield stream_so_far"
   ],
   "id": "58288542d2d715b2",
   "outputs": [],
   "execution_count": 49
  },
  {
   "metadata": {
    "ExecuteTime": {
     "end_time": "2024-12-09T21:34:59.151860Z",
     "start_time": "2024-12-09T21:34:58.022619Z"
    }
   },
   "cell_type": "code",
   "source": [
    "with gr.Blocks() as ui:\n",
    "    with gr.Row():\n",
    "        model = gr.Dropdown([\"GPT\", \"Claude\"], label=\"Select model\", value=\"GPT\")\n",
    "    with gr.Row():\n",
    "        python = gr.Code(label=\"Code snippets:\", lines=10, value=simple_function, language=\"python\")\n",
    "        python_doc = gr.Code(label=\"Documented code:\", language=\"python\")\n",
    "    with gr.Row():\n",
    "        convert = gr.Button(\"Document code\")\n",
    "    \n",
    "    convert.click(document, inputs=[python, model], outputs=[python_doc])\n",
    "    \n",
    "ui.launch(inbrowser=True)"
   ],
   "id": "2896916ce68904b2",
   "outputs": [
    {
     "name": "stdout",
     "output_type": "stream",
     "text": [
      "* Running on local URL:  http://127.0.0.1:7867\n",
      "\n",
      "To create a public link, set `share=True` in `launch()`.\n"
     ]
    },
    {
     "data": {
      "text/plain": [
       "<IPython.core.display.HTML object>"
      ],
      "text/html": [
       "<div><iframe src=\"http://127.0.0.1:7867/\" width=\"100%\" height=\"500\" allow=\"autoplay; camera; microphone; clipboard-read; clipboard-write;\" frameborder=\"0\" allowfullscreen></iframe></div>"
      ]
     },
     "metadata": {},
     "output_type": "display_data"
    },
    {
     "data": {
      "text/plain": []
     },
     "execution_count": 53,
     "metadata": {},
     "output_type": "execute_result"
    }
   ],
   "execution_count": 53
  }
 ],
 "metadata": {
  "kernelspec": {
   "display_name": "Python 3",
   "language": "python",
   "name": "python3"
  },
  "language_info": {
   "codemirror_mode": {
    "name": "ipython",
    "version": 2
   },
   "file_extension": ".py",
   "mimetype": "text/x-python",
   "name": "python",
   "nbconvert_exporter": "python",
   "pygments_lexer": "ipython2",
   "version": "2.7.6"
  }
 },
 "nbformat": 4,
 "nbformat_minor": 5
}
