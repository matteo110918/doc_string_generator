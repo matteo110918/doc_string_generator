{
 "cells": [
  {
   "metadata": {
    "ExecuteTime": {
     "end_time": "2024-12-10T20:51:31.051732Z",
     "start_time": "2024-12-10T20:51:31.046801Z"
    }
   },
   "cell_type": "code",
   "source": [
    "# Install libreries\n",
    "\n",
    "#!pip install python-dotenv openai anthropic gradio"
   ],
   "id": "a6da95277a9a858",
   "outputs": [],
   "execution_count": 73
  },
  {
   "metadata": {
    "ExecuteTime": {
     "end_time": "2024-12-10T20:51:31.062484Z",
     "start_time": "2024-12-10T20:51:31.051732Z"
    }
   },
   "cell_type": "code",
   "source": [
    "# Imports\n",
    "\n",
    "from dotenv import load_dotenv\n",
    "from openai import OpenAI\n",
    "import gradio as gr\n",
    "import os"
   ],
   "id": "initial_id",
   "outputs": [],
   "execution_count": 74
  },
  {
   "metadata": {
    "ExecuteTime": {
     "end_time": "2024-12-10T20:51:31.091507Z",
     "start_time": "2024-12-10T20:51:31.062484Z"
    }
   },
   "cell_type": "code",
   "source": [
    "load_dotenv()\n",
    "os.environ['OPENAI_API_KEY'] = os.getenv('OPENAI_API_KEY', 'your-key-if-not-using-env')"
   ],
   "id": "629cd5857982036a",
   "outputs": [],
   "execution_count": 75
  },
  {
   "metadata": {
    "ExecuteTime": {
     "end_time": "2024-12-10T20:51:31.560304Z",
     "start_time": "2024-12-10T20:51:31.091507Z"
    }
   },
   "cell_type": "code",
   "source": [
    "openai = OpenAI()\n",
    "OPENAI_MODEL = \"gpt-4o-mini\""
   ],
   "id": "77e786259e925cda",
   "outputs": [],
   "execution_count": 76
  },
  {
   "metadata": {
    "ExecuteTime": {
     "end_time": "2024-12-10T20:51:31.569632Z",
     "start_time": "2024-12-10T20:51:31.560304Z"
    }
   },
   "cell_type": "code",
   "source": [
    "system_prompt = \"You are an intelligent assistant specializing in software documentation and code understanding.\\n\"\n",
    "system_prompt += \"Your task is to analyze given Python code snippets, understand their functionality, and produce detailed and accurate docstrings and inline comments.\\n\"\n",
    "system_prompt += \"Follow these guidelines:\\n\\n\"\n",
    "system_prompt += \"1. Use triple double quotes (\\\"\\\"\\\") for Python docstrings.\\n\"\n",
    "system_prompt += \"2. Follow the Google-style docstring format, including:\\n\"\n",
    "system_prompt += \"   - A concise description of the function or class.\\n\"\n",
    "system_prompt += \"   - Args: A list describing all parameters with types and purposes.\\n\"\n",
    "system_prompt += \"   - Returns: A description of the return value, including the type.\\n\"\n",
    "system_prompt += \"   - Example: An example of the function and the output.\\n\\n\"\n",
    "system_prompt += \"3. Add inline comments for non-obvious logic or important steps in the code.\\n\"\n",
    "system_prompt += \"   - Inline comments should be concise and informative.\\n\\n\"\n",
    "system_prompt += \"4. Ensure all docstrings and comments adhere to Python's PEP 8 guidelines.\\n\"\n",
    "system_prompt += \"5. Use clear and professional language, avoiding over-explaining obvious code.\\n\\n\"\n",
    "system_prompt += \"Example Input:\\n\"\n",
    "system_prompt += \"def add_numbers(a, b):\\n\"\n",
    "system_prompt += \"    return a + b\\n\\n\"\n",
    "system_prompt += \"Example Output:\\n\"\n",
    "system_prompt += \"def add_numbers(a, b):\\n\"\n",
    "system_prompt += \"    \\\"\\\"\\\"Adds two numbers and returns the result.\\n\\n\"\n",
    "system_prompt += \"    Args:\\n\"\n",
    "system_prompt += \"        a (int): The first number.\\n\"\n",
    "system_prompt += \"        b (int): The second number.\\n\\n\"\n",
    "system_prompt += \"    Returns:\\n\"\n",
    "system_prompt += \"        int: The sum of the two numbers.\\n\"\n",
    "system_prompt += \"    Example:\\n\"\n",
    "system_prompt += \"        >>>add_numbers(1, 2):\\n\"\n",
    "system_prompt += \"        '3'\\n\"\n",
    "system_prompt += \"    \\\"\\\"\\\"\\n\"\n",
    "system_prompt += \"    return a + b  # Add the two numbers and return the result\\n\""
   ],
   "id": "238496ca05809b4c",
   "outputs": [],
   "execution_count": 77
  },
  {
   "metadata": {
    "ExecuteTime": {
     "end_time": "2024-12-10T20:51:31.581793Z",
     "start_time": "2024-12-10T20:51:31.569632Z"
    }
   },
   "cell_type": "code",
   "source": [
    "java_system_prompt = \"\"\"\n",
    "You are an intelligent assistant specializing in software documentation and code understanding.\n",
    "Your task is to analyze given Java code snippets, understand their functionality, and produce detailed and accurate Javadoc-style comments.\n",
    "Follow these guidelines:\n",
    "\n",
    "1. Use standard Javadoc syntax:\n",
    "   - Start each comment block with /** and end with */.\n",
    "   - Use @param for parameter descriptions.\n",
    "   - Use @return to describe return values.\n",
    "   - Use @throws to describe exceptions thrown by the method, if any.\n",
    "\n",
    "2. Ensure comments are concise but provide enough detail for a developer to understand the purpose and functionality of the code.\n",
    "\n",
    "Example Input:\n",
    "public int addNumbers(int a, int b) {\n",
    "    return a + b;\n",
    "}\n",
    "\n",
    "Example Output:\n",
    "/**\n",
    " * Adds two numbers and returns the result.\n",
    " *\n",
    " * @param a the first number\n",
    " * @param b the second number\n",
    " * @return the sum of the two numbers\n",
    " */\n",
    "public int addNumbers(int a, int b) {\n",
    "    return a + b;\n",
    "}\n",
    "\"\"\"\n"
   ],
   "id": "86d060ede2edd084",
   "outputs": [],
   "execution_count": 78
  },
  {
   "metadata": {
    "ExecuteTime": {
     "end_time": "2024-12-10T20:51:31.593877Z",
     "start_time": "2024-12-10T20:51:31.581793Z"
    }
   },
   "cell_type": "code",
   "source": [
    "def user_prompt_for_python(python_code):\n",
    "    user_prompt = \"Analyze the following Python code snippet and add detailed docstrings and inline comments to improve readability and maintainability. \"\n",
    "    user_prompt += \"Ensure the docstrings follow the Google-style format with sections such as Description, Args, Returns, and Raises if applicable. \"\n",
    "    user_prompt += \"Respond only with the updated Python code, including the added docstrings and inline comments, and nothing else.\\n\\n\"\n",
    "    user_prompt += python_code\n",
    "    return user_prompt\n"
   ],
   "id": "5414ca2cf1ca4cf9",
   "outputs": [],
   "execution_count": 79
  },
  {
   "metadata": {
    "ExecuteTime": {
     "end_time": "2024-12-10T20:51:31.603843Z",
     "start_time": "2024-12-10T20:51:31.593877Z"
    }
   },
   "cell_type": "code",
   "source": [
    "def messages_for_python(python):\n",
    "    return [\n",
    "        {\"role\": \"system\", \"content\": system_prompt},\n",
    "        {\"role\": \"user\", \"content\": user_prompt_for_python(python)}\n",
    "    ]"
   ],
   "id": "6ce0bfb2ab2ae542",
   "outputs": [],
   "execution_count": 80
  },
  {
   "metadata": {
    "ExecuteTime": {
     "end_time": "2024-12-10T20:51:31.613756Z",
     "start_time": "2024-12-10T20:51:31.605355Z"
    }
   },
   "cell_type": "code",
   "source": [
    "def user_prompt_for_java(java_code):\n",
    "    user_prompt = \"Analyze the following Java code snippet and add detailed Javadoc-style comments to improve readability and maintainability. \"\n",
    "    user_prompt += \"Ensure the comments use standard Javadoc syntax with @param, @return, and @throws sections where applicable. \"\n",
    "    user_prompt += \"Respond only with the updated Java code, including the added comments, and nothing else.\\n\\n\"\n",
    "    user_prompt += java_code\n",
    "    return user_prompt\n"
   ],
   "id": "1362e27552bba7aa",
   "outputs": [],
   "execution_count": 81
  },
  {
   "metadata": {
    "ExecuteTime": {
     "end_time": "2024-12-10T20:51:31.624114Z",
     "start_time": "2024-12-10T20:51:31.613756Z"
    }
   },
   "cell_type": "code",
   "source": [
    "def messages_for_java(java_code):\n",
    "    return [\n",
    "        {\"role\": \"system\", \"content\": java_system_prompt},\n",
    "        {\"role\": \"user\", \"content\": user_prompt_for_java(java_code)}\n",
    "    ]\n"
   ],
   "id": "f272fa10e67c4cc3",
   "outputs": [],
   "execution_count": 82
  },
  {
   "metadata": {
    "ExecuteTime": {
     "end_time": "2024-12-10T20:51:31.637845Z",
     "start_time": "2024-12-10T20:51:31.624114Z"
    }
   },
   "cell_type": "code",
   "source": [
    "def documentation_python(python):\n",
    "    stream = openai.chat.completions.create(model=OPENAI_MODEL, messages=messages_for_python(python), stream=True)\n",
    "    reply = \"\"\n",
    "    for chunk in stream:\n",
    "        fragment = chunk.choices[0].delta.content or \"\"\n",
    "        reply += fragment\n",
    "        yield reply.replace('```python\\n','').replace('```','')"
   ],
   "id": "38871558a3f4b624",
   "outputs": [],
   "execution_count": 83
  },
  {
   "metadata": {
    "ExecuteTime": {
     "end_time": "2024-12-10T20:51:31.648457Z",
     "start_time": "2024-12-10T20:51:31.640077Z"
    }
   },
   "cell_type": "code",
   "source": [
    "def documentation_java(java_code):\n",
    "    stream = openai.chat.completions.create(model=OPENAI_MODEL, messages=messages_for_java(java_code), stream=True)\n",
    "    reply = \"\"\n",
    "    for chunk in stream:\n",
    "        fragment = chunk.choices[0].delta.content or \"\"\n",
    "        reply += fragment\n",
    "        yield reply.replace('```java\\n', '').replace('```', '')\n"
   ],
   "id": "ccca1c7ed1546781",
   "outputs": [],
   "execution_count": 84
  },
  {
   "metadata": {
    "ExecuteTime": {
     "end_time": "2024-12-10T20:51:31.657785Z",
     "start_time": "2024-12-10T20:51:31.648457Z"
    }
   },
   "cell_type": "code",
   "source": [
    "def documentation(code, language):\n",
    "    if language == \"Python\":\n",
    "        result = documentation_python(code)\n",
    "    elif language == \"Java\":\n",
    "        result = documentation_java(code)\n",
    "    else:\n",
    "        return \"Language not supported yet.\"\n",
    "    for stream_so_far in result:\n",
    "        yield stream_so_far\n"
   ],
   "id": "62086f9a28d57f9e",
   "outputs": [],
   "execution_count": 85
  },
  {
   "metadata": {
    "ExecuteTime": {
     "end_time": "2024-12-10T20:51:31.671284Z",
     "start_time": "2024-12-10T20:51:31.657785Z"
    }
   },
   "cell_type": "code",
   "source": [
    "simple_function_python = \"\"\"\n",
    "def calculate_area(length, width):\n",
    "    return length * width\n",
    "\"\"\""
   ],
   "id": "62abdce4083787e0",
   "outputs": [],
   "execution_count": 86
  },
  {
   "metadata": {
    "ExecuteTime": {
     "end_time": "2024-12-10T20:51:31.680878Z",
     "start_time": "2024-12-10T20:51:31.671284Z"
    }
   },
   "cell_type": "code",
   "source": [
    "simple_function_java = \"\"\"\n",
    "public int multiply(int a, int b) {\n",
    "    return a * b;\n",
    "}\n",
    "\"\"\""
   ],
   "id": "20da3fdea426c993",
   "outputs": [],
   "execution_count": 87
  },
  {
   "metadata": {
    "ExecuteTime": {
     "end_time": "2024-12-10T20:51:35.453517Z",
     "start_time": "2024-12-10T20:51:31.680878Z"
    }
   },
   "cell_type": "code",
   "source": [
    "with gr.Blocks() as ui:\n",
    "    with gr.Row():\n",
    "        language = gr.Dropdown([\"Python\", \"Java\"], label=\"Select language\", value=\"Python\")\n",
    "    with gr.Row():\n",
    "        code_input = gr.Code(label=\"Code snippets:\", lines=10, value=simple_function_python, language=\"python\")\n",
    "        code_doc = gr.Code(label=\"Documented code:\", language=\"python\")\n",
    "    with gr.Row():\n",
    "        convert = gr.Button(\"Document code\")\n",
    "    \n",
    "    convert.click(documentation, inputs=[code_input, language], outputs=[code_doc])\n",
    "    \n",
    "ui.launch(inbrowser=True, share=True)\n"
   ],
   "id": "2896916ce68904b2",
   "outputs": [
    {
     "name": "stdout",
     "output_type": "stream",
     "text": [
      "* Running on local URL:  http://127.0.0.1:7875\n",
      "* Running on public URL: https://220847a0b41075ad09.gradio.live\n",
      "\n",
      "This share link expires in 72 hours. For free permanent hosting and GPU upgrades, run `gradio deploy` from the terminal in the working directory to deploy to Hugging Face Spaces (https://huggingface.co/spaces)\n"
     ]
    },
    {
     "data": {
      "text/plain": [
       "<IPython.core.display.HTML object>"
      ],
      "text/html": [
       "<div><iframe src=\"https://220847a0b41075ad09.gradio.live\" width=\"100%\" height=\"500\" allow=\"autoplay; camera; microphone; clipboard-read; clipboard-write;\" frameborder=\"0\" allowfullscreen></iframe></div>"
      ]
     },
     "metadata": {},
     "output_type": "display_data"
    },
    {
     "data": {
      "text/plain": []
     },
     "execution_count": 88,
     "metadata": {},
     "output_type": "execute_result"
    }
   ],
   "execution_count": 88
  }
 ],
 "metadata": {
  "kernelspec": {
   "display_name": "Python 3",
   "language": "python",
   "name": "python3"
  },
  "language_info": {
   "codemirror_mode": {
    "name": "ipython",
    "version": 2
   },
   "file_extension": ".py",
   "mimetype": "text/x-python",
   "name": "python",
   "nbconvert_exporter": "python",
   "pygments_lexer": "ipython2",
   "version": "2.7.6"
  }
 },
 "nbformat": 4,
 "nbformat_minor": 5
}
